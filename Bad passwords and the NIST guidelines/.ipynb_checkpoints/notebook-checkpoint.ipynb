{
 "cells": [
  {
   "cell_type": "markdown",
   "metadata": {
    "dc": {
     "key": "4"
    },
    "deletable": false,
    "editable": false,
    "run_control": {
     "frozen": true
    },
    "tags": [
     "context"
    ]
   },
   "source": [
    "## 1. The NIST Special Publication 800-63B\n",
    "<p>If you – 50 years ago – needed to come up with a secret password you were probably part of a secret espionage organization or (more likely) you were pretending to be a spy when playing as a kid. Today, many of us are forced to come up with new passwords <em>all the time</em> when signing into sites and apps. As a password <em>inventeur</em> it is your responsibility to come up with good, hard-to-crack passwords. But it is also in the interest of sites and apps to make sure that you use good passwords. The problem is that it's really hard to define what makes a good password. However, <em>the National Institute of Standards and Technology</em> (NIST) knows what the second best thing is: To make sure you're at least not using a <em>bad</em> password. </p>\n",
    "<p>In this notebook, we will go through the rules in <a href=\"https://pages.nist.gov/800-63-3/sp800-63b.html\">NIST Special Publication 800-63B</a> which details what checks a <em>verifier</em> (what the NIST calls a second party responsible for storing and verifying passwords) should perform to make sure users don't pick bad passwords. We will go through the passwords of users from a fictional company and use R to flag the users with bad passwords. But us being able to do this already means the fictional company is breaking one of the rules of 800-63B:</p>\n",
    "<blockquote>\n",
    "  <p>Verifiers SHALL store memorized secrets in a form that is resistant to offline attacks. Memorized secrets SHALL be salted and hashed using a suitable one-way key derivation function.</p>\n",
    "</blockquote>\n",
    "<p>That is, never save users' passwords in plaintext, always encrypt the passwords! Keeping this in mind for the next time we're building a password management system, let's load in the data.</p>\n",
    "<p><em>Warning: The list of passwords and the fictional user database both contain <strong>real</strong> passwords leaked from <strong>real</strong> websites. These passwords have not been filtered in any way and include words that are explicit, derogatory and offensive.</em></p>"
   ]
  },
  {
   "cell_type": "code",
   "execution_count": 2,
   "metadata": {
    "dc": {
     "key": "4"
    },
    "scrolled": true,
    "tags": [
     "sample_code"
    ]
   },
   "outputs": [
    {
     "name": "stderr",
     "output_type": "stream",
     "text": [
      "Warning message:\n",
      "\"package 'tidyverse' was built under R version 3.6.3\"\n",
      "-- \u001b[1mAttaching packages\u001b[22m --------------------------------------- tidyverse 1.3.0 --\n",
      "\n",
      "\u001b[32mv\u001b[39m \u001b[34mggplot2\u001b[39m 3.3.0     \u001b[32mv\u001b[39m \u001b[34mpurrr  \u001b[39m 0.3.3\n",
      "\u001b[32mv\u001b[39m \u001b[34mtibble \u001b[39m 3.0.1     \u001b[32mv\u001b[39m \u001b[34mdplyr  \u001b[39m 1.0.0\n",
      "\u001b[32mv\u001b[39m \u001b[34mtidyr  \u001b[39m 1.1.0     \u001b[32mv\u001b[39m \u001b[34mstringr\u001b[39m 1.4.0\n",
      "\u001b[32mv\u001b[39m \u001b[34mreadr  \u001b[39m 1.3.1     \u001b[32mv\u001b[39m \u001b[34mforcats\u001b[39m 0.5.0\n",
      "\n",
      "Warning message:\n",
      "\"package 'ggplot2' was built under R version 3.6.3\"\n",
      "Warning message:\n",
      "\"package 'tibble' was built under R version 3.6.3\"\n",
      "Warning message:\n",
      "\"package 'tidyr' was built under R version 3.6.3\"\n",
      "Warning message:\n",
      "\"package 'readr' was built under R version 3.6.3\"\n",
      "Warning message:\n",
      "\"package 'purrr' was built under R version 3.6.3\"\n",
      "Warning message:\n",
      "\"package 'dplyr' was built under R version 3.6.3\"\n",
      "Warning message:\n",
      "\"package 'stringr' was built under R version 3.6.3\"\n",
      "Warning message:\n",
      "\"package 'forcats' was built under R version 3.6.3\"\n",
      "-- \u001b[1mConflicts\u001b[22m ------------------------------------------ tidyverse_conflicts() --\n",
      "\u001b[31mx\u001b[39m \u001b[34mdplyr\u001b[39m::\u001b[32mfilter()\u001b[39m masks \u001b[34mstats\u001b[39m::filter()\n",
      "\u001b[31mx\u001b[39m \u001b[34mdplyr\u001b[39m::\u001b[32mlag()\u001b[39m    masks \u001b[34mstats\u001b[39m::lag()\n",
      "\n",
      "Parsed with column specification:\n",
      "cols(\n",
      "  id = \u001b[32mcol_double()\u001b[39m,\n",
      "  user_name = \u001b[31mcol_character()\u001b[39m,\n",
      "  password = \u001b[31mcol_character()\u001b[39m\n",
      ")\n",
      "\n"
     ]
    },
    {
     "data": {
      "text/html": [
       "<table>\n",
       "<caption>A tibble: 1 × 1</caption>\n",
       "<thead>\n",
       "\t<tr><th scope=col>n</th></tr>\n",
       "\t<tr><th scope=col>&lt;int&gt;</th></tr>\n",
       "</thead>\n",
       "<tbody>\n",
       "\t<tr><td>982</td></tr>\n",
       "</tbody>\n",
       "</table>\n"
      ],
      "text/latex": [
       "A tibble: 1 × 1\n",
       "\\begin{tabular}{l}\n",
       " n\\\\\n",
       " <int>\\\\\n",
       "\\hline\n",
       "\t 982\\\\\n",
       "\\end{tabular}\n"
      ],
      "text/markdown": [
       "\n",
       "A tibble: 1 × 1\n",
       "\n",
       "| n &lt;int&gt; |\n",
       "|---|\n",
       "| 982 |\n",
       "\n"
      ],
      "text/plain": [
       "  n  \n",
       "1 982"
      ]
     },
     "metadata": {},
     "output_type": "display_data"
    },
    {
     "data": {
      "text/html": [
       "<table>\n",
       "<caption>A tibble: 12 × 3</caption>\n",
       "<thead>\n",
       "\t<tr><th scope=col>id</th><th scope=col>user_name</th><th scope=col>password</th></tr>\n",
       "\t<tr><th scope=col>&lt;dbl&gt;</th><th scope=col>&lt;chr&gt;</th><th scope=col>&lt;chr&gt;</th></tr>\n",
       "</thead>\n",
       "<tbody>\n",
       "\t<tr><td> 1</td><td>vance.jennings  </td><td>joobheco        </td></tr>\n",
       "\t<tr><td> 2</td><td>consuelo.eaton  </td><td>0869347314      </td></tr>\n",
       "\t<tr><td> 3</td><td>mitchel.perkins </td><td>fabypotter      </td></tr>\n",
       "\t<tr><td> 4</td><td>odessa.vaughan  </td><td>aharney88       </td></tr>\n",
       "\t<tr><td> 5</td><td>araceli.wilder  </td><td>acecdn3000      </td></tr>\n",
       "\t<tr><td> 6</td><td>shawn.harrington</td><td>5278049         </td></tr>\n",
       "\t<tr><td> 7</td><td>evelyn.gay      </td><td>master          </td></tr>\n",
       "\t<tr><td> 8</td><td>noreen.hale     </td><td>murphy          </td></tr>\n",
       "\t<tr><td> 9</td><td>gladys.ward     </td><td>lwsves2         </td></tr>\n",
       "\t<tr><td>10</td><td>brant.zimmerman </td><td>1190KAREN5572497</td></tr>\n",
       "\t<tr><td>11</td><td>leanna.abbott   </td><td>aivlys24        </td></tr>\n",
       "\t<tr><td>12</td><td>milford.hubbard </td><td>hubbard         </td></tr>\n",
       "</tbody>\n",
       "</table>\n"
      ],
      "text/latex": [
       "A tibble: 12 × 3\n",
       "\\begin{tabular}{lll}\n",
       " id & user\\_name & password\\\\\n",
       " <dbl> & <chr> & <chr>\\\\\n",
       "\\hline\n",
       "\t  1 & vance.jennings   & joobheco        \\\\\n",
       "\t  2 & consuelo.eaton   & 0869347314      \\\\\n",
       "\t  3 & mitchel.perkins  & fabypotter      \\\\\n",
       "\t  4 & odessa.vaughan   & aharney88       \\\\\n",
       "\t  5 & araceli.wilder   & acecdn3000      \\\\\n",
       "\t  6 & shawn.harrington & 5278049         \\\\\n",
       "\t  7 & evelyn.gay       & master          \\\\\n",
       "\t  8 & noreen.hale      & murphy          \\\\\n",
       "\t  9 & gladys.ward      & lwsves2         \\\\\n",
       "\t 10 & brant.zimmerman  & 1190KAREN5572497\\\\\n",
       "\t 11 & leanna.abbott    & aivlys24        \\\\\n",
       "\t 12 & milford.hubbard  & hubbard         \\\\\n",
       "\\end{tabular}\n"
      ],
      "text/markdown": [
       "\n",
       "A tibble: 12 × 3\n",
       "\n",
       "| id &lt;dbl&gt; | user_name &lt;chr&gt; | password &lt;chr&gt; |\n",
       "|---|---|---|\n",
       "|  1 | vance.jennings   | joobheco         |\n",
       "|  2 | consuelo.eaton   | 0869347314       |\n",
       "|  3 | mitchel.perkins  | fabypotter       |\n",
       "|  4 | odessa.vaughan   | aharney88        |\n",
       "|  5 | araceli.wilder   | acecdn3000       |\n",
       "|  6 | shawn.harrington | 5278049          |\n",
       "|  7 | evelyn.gay       | master           |\n",
       "|  8 | noreen.hale      | murphy           |\n",
       "|  9 | gladys.ward      | lwsves2          |\n",
       "| 10 | brant.zimmerman  | 1190KAREN5572497 |\n",
       "| 11 | leanna.abbott    | aivlys24         |\n",
       "| 12 | milford.hubbard  | hubbard          |\n",
       "\n"
      ],
      "text/plain": [
       "   id user_name        password        \n",
       "1   1 vance.jennings   joobheco        \n",
       "2   2 consuelo.eaton   0869347314      \n",
       "3   3 mitchel.perkins  fabypotter      \n",
       "4   4 odessa.vaughan   aharney88       \n",
       "5   5 araceli.wilder   acecdn3000      \n",
       "6   6 shawn.harrington 5278049         \n",
       "7   7 evelyn.gay       master          \n",
       "8   8 noreen.hale      murphy          \n",
       "9   9 gladys.ward      lwsves2         \n",
       "10 10 brant.zimmerman  1190KAREN5572497\n",
       "11 11 leanna.abbott    aivlys24        \n",
       "12 12 milford.hubbard  hubbard         "
      ]
     },
     "metadata": {},
     "output_type": "display_data"
    }
   ],
   "source": [
    "# Importing the tidyverse library\n",
    "library('tidyverse')\n",
    "# Loading in datasets/users.csv \n",
    "users <- read_csv(\"datasets/users.csv\")\n",
    "\n",
    "# Counting how many users we've got\n",
    "users %>% unique() %>% count()\n",
    "\n",
    "# Taking a look at the 12 first users\n",
    "head(users,12)"
   ]
  },
  {
   "cell_type": "markdown",
   "metadata": {
    "dc": {
     "key": "12"
    },
    "deletable": false,
    "editable": false,
    "run_control": {
     "frozen": true
    },
    "tags": [
     "context"
    ]
   },
   "source": [
    "## 2. Passwords should not be too short\n",
    "<p>If we take a look at the first 12 users above we already see some bad passwords. But let's not get ahead of ourselves and start flagging passwords <em>manually</em>. What is the first thing we should check according to the NIST Special Publication 800-63B?</p>\n",
    "<blockquote>\n",
    "  <p>Verifiers SHALL require subscriber-chosen memorized secrets to be at least 8 characters in length.</p>\n",
    "</blockquote>\n",
    "<p>Ok, so the passwords of our users shouldn't be too short. Let's start by checking that!</p>"
   ]
  },
  {
   "cell_type": "code",
   "execution_count": 3,
   "metadata": {
    "dc": {
     "key": "12"
    },
    "scrolled": true,
    "tags": [
     "sample_code"
    ]
   },
   "outputs": [
    {
     "data": {
      "text/html": [
       "376"
      ],
      "text/latex": [
       "376"
      ],
      "text/markdown": [
       "376"
      ],
      "text/plain": [
       "[1] 376"
      ]
     },
     "metadata": {},
     "output_type": "display_data"
    },
    {
     "data": {
      "text/html": [
       "<table>\n",
       "<caption>A tibble: 12 × 5</caption>\n",
       "<thead>\n",
       "\t<tr><th scope=col>id</th><th scope=col>user_name</th><th scope=col>password</th><th scope=col>length</th><th scope=col>too_short</th></tr>\n",
       "\t<tr><th scope=col>&lt;dbl&gt;</th><th scope=col>&lt;chr&gt;</th><th scope=col>&lt;chr&gt;</th><th scope=col>&lt;int&gt;</th><th scope=col>&lt;lgl&gt;</th></tr>\n",
       "</thead>\n",
       "<tbody>\n",
       "\t<tr><td> 1</td><td>vance.jennings  </td><td>joobheco        </td><td> 8</td><td>FALSE</td></tr>\n",
       "\t<tr><td> 2</td><td>consuelo.eaton  </td><td>0869347314      </td><td>10</td><td>FALSE</td></tr>\n",
       "\t<tr><td> 3</td><td>mitchel.perkins </td><td>fabypotter      </td><td>10</td><td>FALSE</td></tr>\n",
       "\t<tr><td> 4</td><td>odessa.vaughan  </td><td>aharney88       </td><td> 9</td><td>FALSE</td></tr>\n",
       "\t<tr><td> 5</td><td>araceli.wilder  </td><td>acecdn3000      </td><td>10</td><td>FALSE</td></tr>\n",
       "\t<tr><td> 6</td><td>shawn.harrington</td><td>5278049         </td><td> 7</td><td> TRUE</td></tr>\n",
       "\t<tr><td> 7</td><td>evelyn.gay      </td><td>master          </td><td> 6</td><td> TRUE</td></tr>\n",
       "\t<tr><td> 8</td><td>noreen.hale     </td><td>murphy          </td><td> 6</td><td> TRUE</td></tr>\n",
       "\t<tr><td> 9</td><td>gladys.ward     </td><td>lwsves2         </td><td> 7</td><td> TRUE</td></tr>\n",
       "\t<tr><td>10</td><td>brant.zimmerman </td><td>1190KAREN5572497</td><td>16</td><td>FALSE</td></tr>\n",
       "\t<tr><td>11</td><td>leanna.abbott   </td><td>aivlys24        </td><td> 8</td><td>FALSE</td></tr>\n",
       "\t<tr><td>12</td><td>milford.hubbard </td><td>hubbard         </td><td> 7</td><td> TRUE</td></tr>\n",
       "</tbody>\n",
       "</table>\n"
      ],
      "text/latex": [
       "A tibble: 12 × 5\n",
       "\\begin{tabular}{lllll}\n",
       " id & user\\_name & password & length & too\\_short\\\\\n",
       " <dbl> & <chr> & <chr> & <int> & <lgl>\\\\\n",
       "\\hline\n",
       "\t  1 & vance.jennings   & joobheco         &  8 & FALSE\\\\\n",
       "\t  2 & consuelo.eaton   & 0869347314       & 10 & FALSE\\\\\n",
       "\t  3 & mitchel.perkins  & fabypotter       & 10 & FALSE\\\\\n",
       "\t  4 & odessa.vaughan   & aharney88        &  9 & FALSE\\\\\n",
       "\t  5 & araceli.wilder   & acecdn3000       & 10 & FALSE\\\\\n",
       "\t  6 & shawn.harrington & 5278049          &  7 &  TRUE\\\\\n",
       "\t  7 & evelyn.gay       & master           &  6 &  TRUE\\\\\n",
       "\t  8 & noreen.hale      & murphy           &  6 &  TRUE\\\\\n",
       "\t  9 & gladys.ward      & lwsves2          &  7 &  TRUE\\\\\n",
       "\t 10 & brant.zimmerman  & 1190KAREN5572497 & 16 & FALSE\\\\\n",
       "\t 11 & leanna.abbott    & aivlys24         &  8 & FALSE\\\\\n",
       "\t 12 & milford.hubbard  & hubbard          &  7 &  TRUE\\\\\n",
       "\\end{tabular}\n"
      ],
      "text/markdown": [
       "\n",
       "A tibble: 12 × 5\n",
       "\n",
       "| id &lt;dbl&gt; | user_name &lt;chr&gt; | password &lt;chr&gt; | length &lt;int&gt; | too_short &lt;lgl&gt; |\n",
       "|---|---|---|---|---|\n",
       "|  1 | vance.jennings   | joobheco         |  8 | FALSE |\n",
       "|  2 | consuelo.eaton   | 0869347314       | 10 | FALSE |\n",
       "|  3 | mitchel.perkins  | fabypotter       | 10 | FALSE |\n",
       "|  4 | odessa.vaughan   | aharney88        |  9 | FALSE |\n",
       "|  5 | araceli.wilder   | acecdn3000       | 10 | FALSE |\n",
       "|  6 | shawn.harrington | 5278049          |  7 |  TRUE |\n",
       "|  7 | evelyn.gay       | master           |  6 |  TRUE |\n",
       "|  8 | noreen.hale      | murphy           |  6 |  TRUE |\n",
       "|  9 | gladys.ward      | lwsves2          |  7 |  TRUE |\n",
       "| 10 | brant.zimmerman  | 1190KAREN5572497 | 16 | FALSE |\n",
       "| 11 | leanna.abbott    | aivlys24         |  8 | FALSE |\n",
       "| 12 | milford.hubbard  | hubbard          |  7 |  TRUE |\n",
       "\n"
      ],
      "text/plain": [
       "   id user_name        password         length too_short\n",
       "1   1 vance.jennings   joobheco          8     FALSE    \n",
       "2   2 consuelo.eaton   0869347314       10     FALSE    \n",
       "3   3 mitchel.perkins  fabypotter       10     FALSE    \n",
       "4   4 odessa.vaughan   aharney88         9     FALSE    \n",
       "5   5 araceli.wilder   acecdn3000       10     FALSE    \n",
       "6   6 shawn.harrington 5278049           7      TRUE    \n",
       "7   7 evelyn.gay       master            6      TRUE    \n",
       "8   8 noreen.hale      murphy            6      TRUE    \n",
       "9   9 gladys.ward      lwsves2           7      TRUE    \n",
       "10 10 brant.zimmerman  1190KAREN5572497 16     FALSE    \n",
       "11 11 leanna.abbott    aivlys24          8     FALSE    \n",
       "12 12 milford.hubbard  hubbard           7      TRUE    "
      ]
     },
     "metadata": {},
     "output_type": "display_data"
    }
   ],
   "source": [
    "# Calculating the lengths of users' passwords\n",
    "users$length <- str_length(users$password)\n",
    "\n",
    "# Flagging the users with too short passwords\n",
    "users$too_short <- users$length < 8\n",
    "\n",
    "# Counting the number of users with too short passwords\n",
    "sum(users$too_short)\n",
    "\n",
    "# Taking a look at the 12 first rows\n",
    "head(users,12)"
   ]
  },
  {
   "cell_type": "markdown",
   "metadata": {
    "dc": {
     "key": "19"
    },
    "deletable": false,
    "editable": false,
    "run_control": {
     "frozen": true
    },
    "tags": [
     "context"
    ]
   },
   "source": [
    "## 3.  Common passwords people use\n",
    "<p>Already this simple rule flagged a couple of offenders among the first 12 users. Next up in Special Publication 800-63B is the rule that</p>\n",
    "<blockquote>\n",
    "  <p>verifiers SHALL compare the prospective secrets against a list that contains values known to be commonly-used, expected, or compromised.</p>\n",
    "  <ul>\n",
    "  <li>Passwords obtained from previous breach corpuses.</li>\n",
    "  <li>Dictionary words.</li>\n",
    "  <li>Repetitive or sequential characters (e.g. ‘aaaaaa’, ‘1234abcd’).</li>\n",
    "  <li>Context-specific words, such as the name of the service, the username, and derivatives thereof.</li>\n",
    "  </ul>\n",
    "</blockquote>\n",
    "<p>We're going to check these in order and start with <em>Passwords obtained from previous breach corpuses</em>, that is, websites where hackers have leaked all the users' passwords. As many websites don't follow the NIST guidelines and encrypt passwords there now exist large lists of the most popular passwords. Let's start by loading in the 10,000 most common passwords which I've taken from <a href=\"https://github.com/danielmiessler/SecLists/tree/master/Passwords\">here</a>.</p>"
   ]
  },
  {
   "cell_type": "code",
   "execution_count": 35,
   "metadata": {
    "dc": {
     "key": "19"
    },
    "tags": [
     "sample_code"
    ]
   },
   "outputs": [
    {
     "data": {
      "text/html": [
       "<ol class=list-inline>\n",
       "\t<li>'123456'</li>\n",
       "\t<li>'password'</li>\n",
       "\t<li>'12345678'</li>\n",
       "\t<li>'qwerty'</li>\n",
       "\t<li>'123456789'</li>\n",
       "\t<li>'12345'</li>\n",
       "\t<li>'1234'</li>\n",
       "\t<li>'111111'</li>\n",
       "\t<li>'1234567'</li>\n",
       "\t<li>'dragon'</li>\n",
       "\t<li>'123123'</li>\n",
       "\t<li>'baseball'</li>\n",
       "\t<li>'abc123'</li>\n",
       "\t<li>'football'</li>\n",
       "\t<li>'monkey'</li>\n",
       "\t<li>'letmein'</li>\n",
       "\t<li>'696969'</li>\n",
       "\t<li>'shadow'</li>\n",
       "\t<li>'master'</li>\n",
       "\t<li>'666666'</li>\n",
       "\t<li>'qwertyuiop'</li>\n",
       "\t<li>'123321'</li>\n",
       "\t<li>'mustang'</li>\n",
       "\t<li>'1234567890'</li>\n",
       "\t<li>'michael'</li>\n",
       "\t<li>'654321'</li>\n",
       "\t<li>'pussy'</li>\n",
       "\t<li>'superman'</li>\n",
       "\t<li>'1qaz2wsx'</li>\n",
       "\t<li>'7777777'</li>\n",
       "\t<li>'fuckyou'</li>\n",
       "\t<li>'121212'</li>\n",
       "\t<li>'000000'</li>\n",
       "\t<li>'qazwsx'</li>\n",
       "\t<li>'123qwe'</li>\n",
       "\t<li>'killer'</li>\n",
       "\t<li>'trustno1'</li>\n",
       "\t<li>'jordan'</li>\n",
       "\t<li>'jennifer'</li>\n",
       "\t<li>'zxcvbnm'</li>\n",
       "\t<li>'asdfgh'</li>\n",
       "\t<li>'hunter'</li>\n",
       "\t<li>'buster'</li>\n",
       "\t<li>'soccer'</li>\n",
       "\t<li>'harley'</li>\n",
       "\t<li>'batman'</li>\n",
       "\t<li>'andrew'</li>\n",
       "\t<li>'tigger'</li>\n",
       "\t<li>'sunshine'</li>\n",
       "\t<li>'iloveyou'</li>\n",
       "\t<li>'fuckme'</li>\n",
       "\t<li>'2000'</li>\n",
       "\t<li>'charlie'</li>\n",
       "\t<li>'robert'</li>\n",
       "\t<li>'thomas'</li>\n",
       "\t<li>'hockey'</li>\n",
       "\t<li>'ranger'</li>\n",
       "\t<li>'daniel'</li>\n",
       "\t<li>'starwars'</li>\n",
       "\t<li>'klaster'</li>\n",
       "\t<li>'112233'</li>\n",
       "\t<li>'george'</li>\n",
       "\t<li>'asshole'</li>\n",
       "\t<li>'computer'</li>\n",
       "\t<li>'michelle'</li>\n",
       "\t<li>'jessica'</li>\n",
       "\t<li>'pepper'</li>\n",
       "\t<li>'1111'</li>\n",
       "\t<li>'zxcvbn'</li>\n",
       "\t<li>'555555'</li>\n",
       "\t<li>'11111111'</li>\n",
       "\t<li>'131313'</li>\n",
       "\t<li>'freedom'</li>\n",
       "\t<li>'777777'</li>\n",
       "\t<li>'pass'</li>\n",
       "\t<li>'fuck'</li>\n",
       "\t<li>'maggie'</li>\n",
       "\t<li>'159753'</li>\n",
       "\t<li>'aaaaaa'</li>\n",
       "\t<li>'ginger'</li>\n",
       "\t<li>'princess'</li>\n",
       "\t<li>'joshua'</li>\n",
       "\t<li>'cheese'</li>\n",
       "\t<li>'amanda'</li>\n",
       "\t<li>'summer'</li>\n",
       "\t<li>'love'</li>\n",
       "\t<li>'ashley'</li>\n",
       "\t<li>'6969'</li>\n",
       "\t<li>'nicole'</li>\n",
       "\t<li>'chelsea'</li>\n",
       "\t<li>'biteme'</li>\n",
       "\t<li>'matthew'</li>\n",
       "\t<li>'access'</li>\n",
       "\t<li>'yankees'</li>\n",
       "\t<li>'987654321'</li>\n",
       "\t<li>'dallas'</li>\n",
       "\t<li>'austin'</li>\n",
       "\t<li>'thunder'</li>\n",
       "\t<li>'taylor'</li>\n",
       "\t<li>'matrix'</li>\n",
       "</ol>\n"
      ],
      "text/latex": [
       "\\begin{enumerate*}\n",
       "\\item '123456'\n",
       "\\item 'password'\n",
       "\\item '12345678'\n",
       "\\item 'qwerty'\n",
       "\\item '123456789'\n",
       "\\item '12345'\n",
       "\\item '1234'\n",
       "\\item '111111'\n",
       "\\item '1234567'\n",
       "\\item 'dragon'\n",
       "\\item '123123'\n",
       "\\item 'baseball'\n",
       "\\item 'abc123'\n",
       "\\item 'football'\n",
       "\\item 'monkey'\n",
       "\\item 'letmein'\n",
       "\\item '696969'\n",
       "\\item 'shadow'\n",
       "\\item 'master'\n",
       "\\item '666666'\n",
       "\\item 'qwertyuiop'\n",
       "\\item '123321'\n",
       "\\item 'mustang'\n",
       "\\item '1234567890'\n",
       "\\item 'michael'\n",
       "\\item '654321'\n",
       "\\item 'pussy'\n",
       "\\item 'superman'\n",
       "\\item '1qaz2wsx'\n",
       "\\item '7777777'\n",
       "\\item 'fuckyou'\n",
       "\\item '121212'\n",
       "\\item '000000'\n",
       "\\item 'qazwsx'\n",
       "\\item '123qwe'\n",
       "\\item 'killer'\n",
       "\\item 'trustno1'\n",
       "\\item 'jordan'\n",
       "\\item 'jennifer'\n",
       "\\item 'zxcvbnm'\n",
       "\\item 'asdfgh'\n",
       "\\item 'hunter'\n",
       "\\item 'buster'\n",
       "\\item 'soccer'\n",
       "\\item 'harley'\n",
       "\\item 'batman'\n",
       "\\item 'andrew'\n",
       "\\item 'tigger'\n",
       "\\item 'sunshine'\n",
       "\\item 'iloveyou'\n",
       "\\item 'fuckme'\n",
       "\\item '2000'\n",
       "\\item 'charlie'\n",
       "\\item 'robert'\n",
       "\\item 'thomas'\n",
       "\\item 'hockey'\n",
       "\\item 'ranger'\n",
       "\\item 'daniel'\n",
       "\\item 'starwars'\n",
       "\\item 'klaster'\n",
       "\\item '112233'\n",
       "\\item 'george'\n",
       "\\item 'asshole'\n",
       "\\item 'computer'\n",
       "\\item 'michelle'\n",
       "\\item 'jessica'\n",
       "\\item 'pepper'\n",
       "\\item '1111'\n",
       "\\item 'zxcvbn'\n",
       "\\item '555555'\n",
       "\\item '11111111'\n",
       "\\item '131313'\n",
       "\\item 'freedom'\n",
       "\\item '777777'\n",
       "\\item 'pass'\n",
       "\\item 'fuck'\n",
       "\\item 'maggie'\n",
       "\\item '159753'\n",
       "\\item 'aaaaaa'\n",
       "\\item 'ginger'\n",
       "\\item 'princess'\n",
       "\\item 'joshua'\n",
       "\\item 'cheese'\n",
       "\\item 'amanda'\n",
       "\\item 'summer'\n",
       "\\item 'love'\n",
       "\\item 'ashley'\n",
       "\\item '6969'\n",
       "\\item 'nicole'\n",
       "\\item 'chelsea'\n",
       "\\item 'biteme'\n",
       "\\item 'matthew'\n",
       "\\item 'access'\n",
       "\\item 'yankees'\n",
       "\\item '987654321'\n",
       "\\item 'dallas'\n",
       "\\item 'austin'\n",
       "\\item 'thunder'\n",
       "\\item 'taylor'\n",
       "\\item 'matrix'\n",
       "\\end{enumerate*}\n"
      ],
      "text/markdown": [
       "1. '123456'\n",
       "2. 'password'\n",
       "3. '12345678'\n",
       "4. 'qwerty'\n",
       "5. '123456789'\n",
       "6. '12345'\n",
       "7. '1234'\n",
       "8. '111111'\n",
       "9. '1234567'\n",
       "10. 'dragon'\n",
       "11. '123123'\n",
       "12. 'baseball'\n",
       "13. 'abc123'\n",
       "14. 'football'\n",
       "15. 'monkey'\n",
       "16. 'letmein'\n",
       "17. '696969'\n",
       "18. 'shadow'\n",
       "19. 'master'\n",
       "20. '666666'\n",
       "21. 'qwertyuiop'\n",
       "22. '123321'\n",
       "23. 'mustang'\n",
       "24. '1234567890'\n",
       "25. 'michael'\n",
       "26. '654321'\n",
       "27. 'pussy'\n",
       "28. 'superman'\n",
       "29. '1qaz2wsx'\n",
       "30. '7777777'\n",
       "31. 'fuckyou'\n",
       "32. '121212'\n",
       "33. '000000'\n",
       "34. 'qazwsx'\n",
       "35. '123qwe'\n",
       "36. 'killer'\n",
       "37. 'trustno1'\n",
       "38. 'jordan'\n",
       "39. 'jennifer'\n",
       "40. 'zxcvbnm'\n",
       "41. 'asdfgh'\n",
       "42. 'hunter'\n",
       "43. 'buster'\n",
       "44. 'soccer'\n",
       "45. 'harley'\n",
       "46. 'batman'\n",
       "47. 'andrew'\n",
       "48. 'tigger'\n",
       "49. 'sunshine'\n",
       "50. 'iloveyou'\n",
       "51. 'fuckme'\n",
       "52. '2000'\n",
       "53. 'charlie'\n",
       "54. 'robert'\n",
       "55. 'thomas'\n",
       "56. 'hockey'\n",
       "57. 'ranger'\n",
       "58. 'daniel'\n",
       "59. 'starwars'\n",
       "60. 'klaster'\n",
       "61. '112233'\n",
       "62. 'george'\n",
       "63. 'asshole'\n",
       "64. 'computer'\n",
       "65. 'michelle'\n",
       "66. 'jessica'\n",
       "67. 'pepper'\n",
       "68. '1111'\n",
       "69. 'zxcvbn'\n",
       "70. '555555'\n",
       "71. '11111111'\n",
       "72. '131313'\n",
       "73. 'freedom'\n",
       "74. '777777'\n",
       "75. 'pass'\n",
       "76. 'fuck'\n",
       "77. 'maggie'\n",
       "78. '159753'\n",
       "79. 'aaaaaa'\n",
       "80. 'ginger'\n",
       "81. 'princess'\n",
       "82. 'joshua'\n",
       "83. 'cheese'\n",
       "84. 'amanda'\n",
       "85. 'summer'\n",
       "86. 'love'\n",
       "87. 'ashley'\n",
       "88. '6969'\n",
       "89. 'nicole'\n",
       "90. 'chelsea'\n",
       "91. 'biteme'\n",
       "92. 'matthew'\n",
       "93. 'access'\n",
       "94. 'yankees'\n",
       "95. '987654321'\n",
       "96. 'dallas'\n",
       "97. 'austin'\n",
       "98. 'thunder'\n",
       "99. 'taylor'\n",
       "100. 'matrix'\n",
       "\n",
       "\n"
      ],
      "text/plain": [
       "  [1] \"123456\"     \"password\"   \"12345678\"   \"qwerty\"     \"123456789\" \n",
       "  [6] \"12345\"      \"1234\"       \"111111\"     \"1234567\"    \"dragon\"    \n",
       " [11] \"123123\"     \"baseball\"   \"abc123\"     \"football\"   \"monkey\"    \n",
       " [16] \"letmein\"    \"696969\"     \"shadow\"     \"master\"     \"666666\"    \n",
       " [21] \"qwertyuiop\" \"123321\"     \"mustang\"    \"1234567890\" \"michael\"   \n",
       " [26] \"654321\"     \"pussy\"      \"superman\"   \"1qaz2wsx\"   \"7777777\"   \n",
       " [31] \"fuckyou\"    \"121212\"     \"000000\"     \"qazwsx\"     \"123qwe\"    \n",
       " [36] \"killer\"     \"trustno1\"   \"jordan\"     \"jennifer\"   \"zxcvbnm\"   \n",
       " [41] \"asdfgh\"     \"hunter\"     \"buster\"     \"soccer\"     \"harley\"    \n",
       " [46] \"batman\"     \"andrew\"     \"tigger\"     \"sunshine\"   \"iloveyou\"  \n",
       " [51] \"fuckme\"     \"2000\"       \"charlie\"    \"robert\"     \"thomas\"    \n",
       " [56] \"hockey\"     \"ranger\"     \"daniel\"     \"starwars\"   \"klaster\"   \n",
       " [61] \"112233\"     \"george\"     \"asshole\"    \"computer\"   \"michelle\"  \n",
       " [66] \"jessica\"    \"pepper\"     \"1111\"       \"zxcvbn\"     \"555555\"    \n",
       " [71] \"11111111\"   \"131313\"     \"freedom\"    \"777777\"     \"pass\"      \n",
       " [76] \"fuck\"       \"maggie\"     \"159753\"     \"aaaaaa\"     \"ginger\"    \n",
       " [81] \"princess\"   \"joshua\"     \"cheese\"     \"amanda\"     \"summer\"    \n",
       " [86] \"love\"       \"ashley\"     \"6969\"       \"nicole\"     \"chelsea\"   \n",
       " [91] \"biteme\"     \"matthew\"    \"access\"     \"yankees\"    \"987654321\" \n",
       " [96] \"dallas\"     \"austin\"     \"thunder\"    \"taylor\"     \"matrix\"    "
      ]
     },
     "metadata": {},
     "output_type": "display_data"
    }
   ],
   "source": [
    "# Reading in the top 10000 passwords\n",
    "common_passwords <- read_lines(\"datasets/10_million_password_list_top_10000.txt\")\n",
    "\n",
    "# Taking a look at the top 100\n",
    "head(common_passwords,100)"
   ]
  },
  {
   "cell_type": "markdown",
   "metadata": {
    "dc": {
     "key": "26"
    },
    "deletable": false,
    "editable": false,
    "run_control": {
     "frozen": true
    },
    "tags": [
     "context"
    ]
   },
   "source": [
    "## 4.  Passwords should not be common passwords\n",
    "<p>The list of passwords was ordered, with the most common passwords first, and so we shouldn't be surprised to see passwords like <code>123456</code> and <code>qwerty</code> above. As hackers also have access to this list of common passwords, it's important that none of our users use these passwords!</p>\n",
    "<p>Let's flag all the passwords in our user database that are among the top 10,000 used passwords.</p>"
   ]
  },
  {
   "cell_type": "code",
   "execution_count": 37,
   "metadata": {
    "dc": {
     "key": "26"
    },
    "tags": [
     "sample_code"
    ]
   },
   "outputs": [
    {
     "data": {
      "text/html": [
       "129"
      ],
      "text/latex": [
       "129"
      ],
      "text/markdown": [
       "129"
      ],
      "text/plain": [
       "[1] 129"
      ]
     },
     "metadata": {},
     "output_type": "display_data"
    },
    {
     "data": {
      "text/html": [
       "<table>\n",
       "<caption>A tibble: 12 x 6</caption>\n",
       "<thead>\n",
       "\t<tr><th scope=col>id</th><th scope=col>user_name</th><th scope=col>password</th><th scope=col>length</th><th scope=col>too_short</th><th scope=col>common_password</th></tr>\n",
       "\t<tr><th scope=col>&lt;dbl&gt;</th><th scope=col>&lt;chr&gt;</th><th scope=col>&lt;chr&gt;</th><th scope=col>&lt;int&gt;</th><th scope=col>&lt;lgl&gt;</th><th scope=col>&lt;lgl&gt;</th></tr>\n",
       "</thead>\n",
       "<tbody>\n",
       "\t<tr><td> 1</td><td>vance.jennings  </td><td>joobheco        </td><td> 8</td><td>FALSE</td><td>FALSE</td></tr>\n",
       "\t<tr><td> 2</td><td>consuelo.eaton  </td><td>0869347314      </td><td>10</td><td>FALSE</td><td>FALSE</td></tr>\n",
       "\t<tr><td> 3</td><td>mitchel.perkins </td><td>fabypotter      </td><td>10</td><td>FALSE</td><td>FALSE</td></tr>\n",
       "\t<tr><td> 4</td><td>odessa.vaughan  </td><td>aharney88       </td><td> 9</td><td>FALSE</td><td>FALSE</td></tr>\n",
       "\t<tr><td> 5</td><td>araceli.wilder  </td><td>acecdn3000      </td><td>10</td><td>FALSE</td><td>FALSE</td></tr>\n",
       "\t<tr><td> 6</td><td>shawn.harrington</td><td>5278049         </td><td> 7</td><td> TRUE</td><td>FALSE</td></tr>\n",
       "\t<tr><td> 7</td><td>evelyn.gay      </td><td>master          </td><td> 6</td><td> TRUE</td><td> TRUE</td></tr>\n",
       "\t<tr><td> 8</td><td>noreen.hale     </td><td>murphy          </td><td> 6</td><td> TRUE</td><td> TRUE</td></tr>\n",
       "\t<tr><td> 9</td><td>gladys.ward     </td><td>lwsves2         </td><td> 7</td><td> TRUE</td><td>FALSE</td></tr>\n",
       "\t<tr><td>10</td><td>brant.zimmerman </td><td>1190KAREN5572497</td><td>16</td><td>FALSE</td><td>FALSE</td></tr>\n",
       "\t<tr><td>11</td><td>leanna.abbott   </td><td>aivlys24        </td><td> 8</td><td>FALSE</td><td>FALSE</td></tr>\n",
       "\t<tr><td>12</td><td>milford.hubbard </td><td>hubbard         </td><td> 7</td><td> TRUE</td><td>FALSE</td></tr>\n",
       "</tbody>\n",
       "</table>\n"
      ],
      "text/latex": [
       "A tibble: 12 x 6\n",
       "\\begin{tabular}{r|llllll}\n",
       " id & user\\_name & password & length & too\\_short & common\\_password\\\\\n",
       " <dbl> & <chr> & <chr> & <int> & <lgl> & <lgl>\\\\\n",
       "\\hline\n",
       "\t  1 & vance.jennings   & joobheco         &  8 & FALSE & FALSE\\\\\n",
       "\t  2 & consuelo.eaton   & 0869347314       & 10 & FALSE & FALSE\\\\\n",
       "\t  3 & mitchel.perkins  & fabypotter       & 10 & FALSE & FALSE\\\\\n",
       "\t  4 & odessa.vaughan   & aharney88        &  9 & FALSE & FALSE\\\\\n",
       "\t  5 & araceli.wilder   & acecdn3000       & 10 & FALSE & FALSE\\\\\n",
       "\t  6 & shawn.harrington & 5278049          &  7 &  TRUE & FALSE\\\\\n",
       "\t  7 & evelyn.gay       & master           &  6 &  TRUE &  TRUE\\\\\n",
       "\t  8 & noreen.hale      & murphy           &  6 &  TRUE &  TRUE\\\\\n",
       "\t  9 & gladys.ward      & lwsves2          &  7 &  TRUE & FALSE\\\\\n",
       "\t 10 & brant.zimmerman  & 1190KAREN5572497 & 16 & FALSE & FALSE\\\\\n",
       "\t 11 & leanna.abbott    & aivlys24         &  8 & FALSE & FALSE\\\\\n",
       "\t 12 & milford.hubbard  & hubbard          &  7 &  TRUE & FALSE\\\\\n",
       "\\end{tabular}\n"
      ],
      "text/markdown": [
       "\n",
       "A tibble: 12 x 6\n",
       "\n",
       "| id &lt;dbl&gt; | user_name &lt;chr&gt; | password &lt;chr&gt; | length &lt;int&gt; | too_short &lt;lgl&gt; | common_password &lt;lgl&gt; |\n",
       "|---|---|---|---|---|---|\n",
       "|  1 | vance.jennings   | joobheco         |  8 | FALSE | FALSE |\n",
       "|  2 | consuelo.eaton   | 0869347314       | 10 | FALSE | FALSE |\n",
       "|  3 | mitchel.perkins  | fabypotter       | 10 | FALSE | FALSE |\n",
       "|  4 | odessa.vaughan   | aharney88        |  9 | FALSE | FALSE |\n",
       "|  5 | araceli.wilder   | acecdn3000       | 10 | FALSE | FALSE |\n",
       "|  6 | shawn.harrington | 5278049          |  7 |  TRUE | FALSE |\n",
       "|  7 | evelyn.gay       | master           |  6 |  TRUE |  TRUE |\n",
       "|  8 | noreen.hale      | murphy           |  6 |  TRUE |  TRUE |\n",
       "|  9 | gladys.ward      | lwsves2          |  7 |  TRUE | FALSE |\n",
       "| 10 | brant.zimmerman  | 1190KAREN5572497 | 16 | FALSE | FALSE |\n",
       "| 11 | leanna.abbott    | aivlys24         |  8 | FALSE | FALSE |\n",
       "| 12 | milford.hubbard  | hubbard          |  7 |  TRUE | FALSE |\n",
       "\n"
      ],
      "text/plain": [
       "   id user_name        password         length too_short common_password\n",
       "1   1 vance.jennings   joobheco          8     FALSE     FALSE          \n",
       "2   2 consuelo.eaton   0869347314       10     FALSE     FALSE          \n",
       "3   3 mitchel.perkins  fabypotter       10     FALSE     FALSE          \n",
       "4   4 odessa.vaughan   aharney88         9     FALSE     FALSE          \n",
       "5   5 araceli.wilder   acecdn3000       10     FALSE     FALSE          \n",
       "6   6 shawn.harrington 5278049           7      TRUE     FALSE          \n",
       "7   7 evelyn.gay       master            6      TRUE      TRUE          \n",
       "8   8 noreen.hale      murphy            6      TRUE      TRUE          \n",
       "9   9 gladys.ward      lwsves2           7      TRUE     FALSE          \n",
       "10 10 brant.zimmerman  1190KAREN5572497 16     FALSE     FALSE          \n",
       "11 11 leanna.abbott    aivlys24          8     FALSE     FALSE          \n",
       "12 12 milford.hubbard  hubbard           7      TRUE     FALSE          "
      ]
     },
     "metadata": {},
     "output_type": "display_data"
    }
   ],
   "source": [
    "# Flagging the users with passwords that are common passwords\n",
    "users$common_password <- users$password %in% common_passwords\n",
    "\n",
    "# Counting the number of users using common passwords\n",
    "sum(users$common_password)\n",
    "# Taking a look at the 12 first rows\n",
    "head(users,12)"
   ]
  },
  {
   "cell_type": "markdown",
   "metadata": {
    "dc": {
     "key": "33"
    },
    "deletable": false,
    "editable": false,
    "run_control": {
     "frozen": true
    },
    "tags": [
     "context"
    ]
   },
   "source": [
    "## 5. Passwords should not be common words\n",
    "<p>Ay ay ay! It turns out many of our users use common passwords, and of the first 12 users there are already two. However, as most common passwords also tend to be short, they were already flagged as being too short. What is the next thing we should check?</p>\n",
    "<blockquote>\n",
    "  <p>Verifiers SHALL compare the prospective secrets against a list that contains [...] dictionary words.</p>\n",
    "</blockquote>\n",
    "<p>This follows the same logic as before: It is easy for hackers to check users' passwords against common English words and therefore common English words make bad passwords. Let's check our users' passwords against the top 10,000 English words from <a href=\"https://github.com/first20hours/google-10000-english\">Google's Trillion Word Corpus</a>.</p>"
   ]
  },
  {
   "cell_type": "code",
   "execution_count": 47,
   "metadata": {
    "dc": {
     "key": "33"
    },
    "scrolled": true,
    "tags": [
     "sample_code"
    ]
   },
   "outputs": [
    {
     "data": {
      "text/html": [
       "136"
      ],
      "text/latex": [
       "136"
      ],
      "text/markdown": [
       "136"
      ],
      "text/plain": [
       "[1] 136"
      ]
     },
     "metadata": {},
     "output_type": "display_data"
    },
    {
     "data": {
      "text/html": [
       "<table>\n",
       "<caption>A tibble: 12 x 7</caption>\n",
       "<thead>\n",
       "\t<tr><th scope=col>id</th><th scope=col>user_name</th><th scope=col>password</th><th scope=col>length</th><th scope=col>too_short</th><th scope=col>common_password</th><th scope=col>common_word</th></tr>\n",
       "\t<tr><th scope=col>&lt;dbl&gt;</th><th scope=col>&lt;chr&gt;</th><th scope=col>&lt;chr&gt;</th><th scope=col>&lt;int&gt;</th><th scope=col>&lt;lgl&gt;</th><th scope=col>&lt;lgl&gt;</th><th scope=col>&lt;lgl&gt;</th></tr>\n",
       "</thead>\n",
       "<tbody>\n",
       "\t<tr><td> 1</td><td>vance.jennings  </td><td>joobheco        </td><td> 8</td><td>FALSE</td><td>FALSE</td><td>FALSE</td></tr>\n",
       "\t<tr><td> 2</td><td>consuelo.eaton  </td><td>0869347314      </td><td>10</td><td>FALSE</td><td>FALSE</td><td>FALSE</td></tr>\n",
       "\t<tr><td> 3</td><td>mitchel.perkins </td><td>fabypotter      </td><td>10</td><td>FALSE</td><td>FALSE</td><td>FALSE</td></tr>\n",
       "\t<tr><td> 4</td><td>odessa.vaughan  </td><td>aharney88       </td><td> 9</td><td>FALSE</td><td>FALSE</td><td>FALSE</td></tr>\n",
       "\t<tr><td> 5</td><td>araceli.wilder  </td><td>acecdn3000      </td><td>10</td><td>FALSE</td><td>FALSE</td><td>FALSE</td></tr>\n",
       "\t<tr><td> 6</td><td>shawn.harrington</td><td>5278049         </td><td> 7</td><td> TRUE</td><td>FALSE</td><td>FALSE</td></tr>\n",
       "\t<tr><td> 7</td><td>evelyn.gay      </td><td>master          </td><td> 6</td><td> TRUE</td><td> TRUE</td><td> TRUE</td></tr>\n",
       "\t<tr><td> 8</td><td>noreen.hale     </td><td>murphy          </td><td> 6</td><td> TRUE</td><td> TRUE</td><td> TRUE</td></tr>\n",
       "\t<tr><td> 9</td><td>gladys.ward     </td><td>lwsves2         </td><td> 7</td><td> TRUE</td><td>FALSE</td><td>FALSE</td></tr>\n",
       "\t<tr><td>10</td><td>brant.zimmerman </td><td>1190KAREN5572497</td><td>16</td><td>FALSE</td><td>FALSE</td><td>FALSE</td></tr>\n",
       "\t<tr><td>11</td><td>leanna.abbott   </td><td>aivlys24        </td><td> 8</td><td>FALSE</td><td>FALSE</td><td>FALSE</td></tr>\n",
       "\t<tr><td>12</td><td>milford.hubbard </td><td>hubbard         </td><td> 7</td><td> TRUE</td><td>FALSE</td><td>FALSE</td></tr>\n",
       "</tbody>\n",
       "</table>\n"
      ],
      "text/latex": [
       "A tibble: 12 x 7\n",
       "\\begin{tabular}{r|lllllll}\n",
       " id & user\\_name & password & length & too\\_short & common\\_password & common\\_word\\\\\n",
       " <dbl> & <chr> & <chr> & <int> & <lgl> & <lgl> & <lgl>\\\\\n",
       "\\hline\n",
       "\t  1 & vance.jennings   & joobheco         &  8 & FALSE & FALSE & FALSE\\\\\n",
       "\t  2 & consuelo.eaton   & 0869347314       & 10 & FALSE & FALSE & FALSE\\\\\n",
       "\t  3 & mitchel.perkins  & fabypotter       & 10 & FALSE & FALSE & FALSE\\\\\n",
       "\t  4 & odessa.vaughan   & aharney88        &  9 & FALSE & FALSE & FALSE\\\\\n",
       "\t  5 & araceli.wilder   & acecdn3000       & 10 & FALSE & FALSE & FALSE\\\\\n",
       "\t  6 & shawn.harrington & 5278049          &  7 &  TRUE & FALSE & FALSE\\\\\n",
       "\t  7 & evelyn.gay       & master           &  6 &  TRUE &  TRUE &  TRUE\\\\\n",
       "\t  8 & noreen.hale      & murphy           &  6 &  TRUE &  TRUE &  TRUE\\\\\n",
       "\t  9 & gladys.ward      & lwsves2          &  7 &  TRUE & FALSE & FALSE\\\\\n",
       "\t 10 & brant.zimmerman  & 1190KAREN5572497 & 16 & FALSE & FALSE & FALSE\\\\\n",
       "\t 11 & leanna.abbott    & aivlys24         &  8 & FALSE & FALSE & FALSE\\\\\n",
       "\t 12 & milford.hubbard  & hubbard          &  7 &  TRUE & FALSE & FALSE\\\\\n",
       "\\end{tabular}\n"
      ],
      "text/markdown": [
       "\n",
       "A tibble: 12 x 7\n",
       "\n",
       "| id &lt;dbl&gt; | user_name &lt;chr&gt; | password &lt;chr&gt; | length &lt;int&gt; | too_short &lt;lgl&gt; | common_password &lt;lgl&gt; | common_word &lt;lgl&gt; |\n",
       "|---|---|---|---|---|---|---|\n",
       "|  1 | vance.jennings   | joobheco         |  8 | FALSE | FALSE | FALSE |\n",
       "|  2 | consuelo.eaton   | 0869347314       | 10 | FALSE | FALSE | FALSE |\n",
       "|  3 | mitchel.perkins  | fabypotter       | 10 | FALSE | FALSE | FALSE |\n",
       "|  4 | odessa.vaughan   | aharney88        |  9 | FALSE | FALSE | FALSE |\n",
       "|  5 | araceli.wilder   | acecdn3000       | 10 | FALSE | FALSE | FALSE |\n",
       "|  6 | shawn.harrington | 5278049          |  7 |  TRUE | FALSE | FALSE |\n",
       "|  7 | evelyn.gay       | master           |  6 |  TRUE |  TRUE |  TRUE |\n",
       "|  8 | noreen.hale      | murphy           |  6 |  TRUE |  TRUE |  TRUE |\n",
       "|  9 | gladys.ward      | lwsves2          |  7 |  TRUE | FALSE | FALSE |\n",
       "| 10 | brant.zimmerman  | 1190KAREN5572497 | 16 | FALSE | FALSE | FALSE |\n",
       "| 11 | leanna.abbott    | aivlys24         |  8 | FALSE | FALSE | FALSE |\n",
       "| 12 | milford.hubbard  | hubbard          |  7 |  TRUE | FALSE | FALSE |\n",
       "\n"
      ],
      "text/plain": [
       "   id user_name        password         length too_short common_password\n",
       "1   1 vance.jennings   joobheco          8     FALSE     FALSE          \n",
       "2   2 consuelo.eaton   0869347314       10     FALSE     FALSE          \n",
       "3   3 mitchel.perkins  fabypotter       10     FALSE     FALSE          \n",
       "4   4 odessa.vaughan   aharney88         9     FALSE     FALSE          \n",
       "5   5 araceli.wilder   acecdn3000       10     FALSE     FALSE          \n",
       "6   6 shawn.harrington 5278049           7      TRUE     FALSE          \n",
       "7   7 evelyn.gay       master            6      TRUE      TRUE          \n",
       "8   8 noreen.hale      murphy            6      TRUE      TRUE          \n",
       "9   9 gladys.ward      lwsves2           7      TRUE     FALSE          \n",
       "10 10 brant.zimmerman  1190KAREN5572497 16     FALSE     FALSE          \n",
       "11 11 leanna.abbott    aivlys24          8     FALSE     FALSE          \n",
       "12 12 milford.hubbard  hubbard           7      TRUE     FALSE          \n",
       "   common_word\n",
       "1  FALSE      \n",
       "2  FALSE      \n",
       "3  FALSE      \n",
       "4  FALSE      \n",
       "5  FALSE      \n",
       "6  FALSE      \n",
       "7   TRUE      \n",
       "8   TRUE      \n",
       "9  FALSE      \n",
       "10 FALSE      \n",
       "11 FALSE      \n",
       "12 FALSE      "
      ]
     },
     "metadata": {},
     "output_type": "display_data"
    }
   ],
   "source": [
    "# Reading in a list of the 10000 most common words\n",
    "words <- read_lines(\"datasets/google-10000-english.txt\")\n",
    "\n",
    "# Flagging the users with passwords that are common words\n",
    "users$common_word <- users$password %in% words\n",
    "\n",
    "# Counting the number of users using common words as passwords\n",
    "sum(users$common_word)\n",
    "\n",
    "# Taking a look at the 12 first rows\n",
    "head(users,12)"
   ]
  },
  {
   "cell_type": "markdown",
   "metadata": {
    "dc": {
     "key": "40"
    },
    "deletable": false,
    "editable": false,
    "run_control": {
     "frozen": true
    },
    "tags": [
     "context"
    ]
   },
   "source": [
    "## 6. Passwords should not be your name\n",
    "<p>It turns out many of our passwords were common English words too! Next up on the NIST list:</p>\n",
    "<blockquote>\n",
    "  <p>Verifiers SHALL compare the prospective secrets against a list that contains [...] context-specific words, such as the name of the service, the username, and derivatives thereof.</p>\n",
    "</blockquote>\n",
    "<p>Ok, so there are many things we could check here. One thing to notice is that our users' usernames consist of their first names and last names separated by a dot. For now, let's just flag passwords that are the same as either a user's first or last name.</p>"
   ]
  },
  {
   "cell_type": "code",
   "execution_count": 51,
   "metadata": {
    "dc": {
     "key": "40"
    },
    "tags": [
     "sample_code"
    ]
   },
   "outputs": [
    {
     "data": {
      "text/html": [
       "50"
      ],
      "text/latex": [
       "50"
      ],
      "text/markdown": [
       "50"
      ],
      "text/plain": [
       "[1] 50"
      ]
     },
     "metadata": {},
     "output_type": "display_data"
    },
    {
     "data": {
      "text/html": [
       "<table>\n",
       "<caption>A tibble: 12 x 10</caption>\n",
       "<thead>\n",
       "\t<tr><th scope=col>id</th><th scope=col>user_name</th><th scope=col>password</th><th scope=col>length</th><th scope=col>too_short</th><th scope=col>common_password</th><th scope=col>common_word</th><th scope=col>first_name</th><th scope=col>last_name</th><th scope=col>uses_name</th></tr>\n",
       "\t<tr><th scope=col>&lt;dbl&gt;</th><th scope=col>&lt;chr&gt;</th><th scope=col>&lt;chr&gt;</th><th scope=col>&lt;int&gt;</th><th scope=col>&lt;lgl&gt;</th><th scope=col>&lt;lgl&gt;</th><th scope=col>&lt;lgl&gt;</th><th scope=col>&lt;chr&gt;</th><th scope=col>&lt;chr&gt;</th><th scope=col>&lt;lgl&gt;</th></tr>\n",
       "</thead>\n",
       "<tbody>\n",
       "\t<tr><td> 1</td><td>vance.jennings  </td><td>joobheco        </td><td> 8</td><td>FALSE</td><td>FALSE</td><td>FALSE</td><td>vance   </td><td>jennings  </td><td>FALSE</td></tr>\n",
       "\t<tr><td> 2</td><td>consuelo.eaton  </td><td>0869347314      </td><td>10</td><td>FALSE</td><td>FALSE</td><td>FALSE</td><td>consuelo</td><td>eaton     </td><td>FALSE</td></tr>\n",
       "\t<tr><td> 3</td><td>mitchel.perkins </td><td>fabypotter      </td><td>10</td><td>FALSE</td><td>FALSE</td><td>FALSE</td><td>mitchel </td><td>perkins   </td><td>FALSE</td></tr>\n",
       "\t<tr><td> 4</td><td>odessa.vaughan  </td><td>aharney88       </td><td> 9</td><td>FALSE</td><td>FALSE</td><td>FALSE</td><td>odessa  </td><td>vaughan   </td><td>FALSE</td></tr>\n",
       "\t<tr><td> 5</td><td>araceli.wilder  </td><td>acecdn3000      </td><td>10</td><td>FALSE</td><td>FALSE</td><td>FALSE</td><td>araceli </td><td>wilder    </td><td>FALSE</td></tr>\n",
       "\t<tr><td> 6</td><td>shawn.harrington</td><td>5278049         </td><td> 7</td><td> TRUE</td><td>FALSE</td><td>FALSE</td><td>shawn   </td><td>harrington</td><td>FALSE</td></tr>\n",
       "\t<tr><td> 7</td><td>evelyn.gay      </td><td>master          </td><td> 6</td><td> TRUE</td><td> TRUE</td><td> TRUE</td><td>evelyn  </td><td>gay       </td><td>FALSE</td></tr>\n",
       "\t<tr><td> 8</td><td>noreen.hale     </td><td>murphy          </td><td> 6</td><td> TRUE</td><td> TRUE</td><td> TRUE</td><td>noreen  </td><td>hale      </td><td>FALSE</td></tr>\n",
       "\t<tr><td> 9</td><td>gladys.ward     </td><td>lwsves2         </td><td> 7</td><td> TRUE</td><td>FALSE</td><td>FALSE</td><td>gladys  </td><td>ward      </td><td>FALSE</td></tr>\n",
       "\t<tr><td>10</td><td>brant.zimmerman </td><td>1190KAREN5572497</td><td>16</td><td>FALSE</td><td>FALSE</td><td>FALSE</td><td>brant   </td><td>zimmerman </td><td>FALSE</td></tr>\n",
       "\t<tr><td>11</td><td>leanna.abbott   </td><td>aivlys24        </td><td> 8</td><td>FALSE</td><td>FALSE</td><td>FALSE</td><td>leanna  </td><td>abbott    </td><td>FALSE</td></tr>\n",
       "\t<tr><td>12</td><td>milford.hubbard </td><td>hubbard         </td><td> 7</td><td> TRUE</td><td>FALSE</td><td>FALSE</td><td>milford </td><td>hubbard   </td><td> TRUE</td></tr>\n",
       "</tbody>\n",
       "</table>\n"
      ],
      "text/latex": [
       "A tibble: 12 x 10\n",
       "\\begin{tabular}{r|llllllllll}\n",
       " id & user\\_name & password & length & too\\_short & common\\_password & common\\_word & first\\_name & last\\_name & uses\\_name\\\\\n",
       " <dbl> & <chr> & <chr> & <int> & <lgl> & <lgl> & <lgl> & <chr> & <chr> & <lgl>\\\\\n",
       "\\hline\n",
       "\t  1 & vance.jennings   & joobheco         &  8 & FALSE & FALSE & FALSE & vance    & jennings   & FALSE\\\\\n",
       "\t  2 & consuelo.eaton   & 0869347314       & 10 & FALSE & FALSE & FALSE & consuelo & eaton      & FALSE\\\\\n",
       "\t  3 & mitchel.perkins  & fabypotter       & 10 & FALSE & FALSE & FALSE & mitchel  & perkins    & FALSE\\\\\n",
       "\t  4 & odessa.vaughan   & aharney88        &  9 & FALSE & FALSE & FALSE & odessa   & vaughan    & FALSE\\\\\n",
       "\t  5 & araceli.wilder   & acecdn3000       & 10 & FALSE & FALSE & FALSE & araceli  & wilder     & FALSE\\\\\n",
       "\t  6 & shawn.harrington & 5278049          &  7 &  TRUE & FALSE & FALSE & shawn    & harrington & FALSE\\\\\n",
       "\t  7 & evelyn.gay       & master           &  6 &  TRUE &  TRUE &  TRUE & evelyn   & gay        & FALSE\\\\\n",
       "\t  8 & noreen.hale      & murphy           &  6 &  TRUE &  TRUE &  TRUE & noreen   & hale       & FALSE\\\\\n",
       "\t  9 & gladys.ward      & lwsves2          &  7 &  TRUE & FALSE & FALSE & gladys   & ward       & FALSE\\\\\n",
       "\t 10 & brant.zimmerman  & 1190KAREN5572497 & 16 & FALSE & FALSE & FALSE & brant    & zimmerman  & FALSE\\\\\n",
       "\t 11 & leanna.abbott    & aivlys24         &  8 & FALSE & FALSE & FALSE & leanna   & abbott     & FALSE\\\\\n",
       "\t 12 & milford.hubbard  & hubbard          &  7 &  TRUE & FALSE & FALSE & milford  & hubbard    &  TRUE\\\\\n",
       "\\end{tabular}\n"
      ],
      "text/markdown": [
       "\n",
       "A tibble: 12 x 10\n",
       "\n",
       "| id &lt;dbl&gt; | user_name &lt;chr&gt; | password &lt;chr&gt; | length &lt;int&gt; | too_short &lt;lgl&gt; | common_password &lt;lgl&gt; | common_word &lt;lgl&gt; | first_name &lt;chr&gt; | last_name &lt;chr&gt; | uses_name &lt;lgl&gt; |\n",
       "|---|---|---|---|---|---|---|---|---|---|\n",
       "|  1 | vance.jennings   | joobheco         |  8 | FALSE | FALSE | FALSE | vance    | jennings   | FALSE |\n",
       "|  2 | consuelo.eaton   | 0869347314       | 10 | FALSE | FALSE | FALSE | consuelo | eaton      | FALSE |\n",
       "|  3 | mitchel.perkins  | fabypotter       | 10 | FALSE | FALSE | FALSE | mitchel  | perkins    | FALSE |\n",
       "|  4 | odessa.vaughan   | aharney88        |  9 | FALSE | FALSE | FALSE | odessa   | vaughan    | FALSE |\n",
       "|  5 | araceli.wilder   | acecdn3000       | 10 | FALSE | FALSE | FALSE | araceli  | wilder     | FALSE |\n",
       "|  6 | shawn.harrington | 5278049          |  7 |  TRUE | FALSE | FALSE | shawn    | harrington | FALSE |\n",
       "|  7 | evelyn.gay       | master           |  6 |  TRUE |  TRUE |  TRUE | evelyn   | gay        | FALSE |\n",
       "|  8 | noreen.hale      | murphy           |  6 |  TRUE |  TRUE |  TRUE | noreen   | hale       | FALSE |\n",
       "|  9 | gladys.ward      | lwsves2          |  7 |  TRUE | FALSE | FALSE | gladys   | ward       | FALSE |\n",
       "| 10 | brant.zimmerman  | 1190KAREN5572497 | 16 | FALSE | FALSE | FALSE | brant    | zimmerman  | FALSE |\n",
       "| 11 | leanna.abbott    | aivlys24         |  8 | FALSE | FALSE | FALSE | leanna   | abbott     | FALSE |\n",
       "| 12 | milford.hubbard  | hubbard          |  7 |  TRUE | FALSE | FALSE | milford  | hubbard    |  TRUE |\n",
       "\n"
      ],
      "text/plain": [
       "   id user_name        password         length too_short common_password\n",
       "1   1 vance.jennings   joobheco          8     FALSE     FALSE          \n",
       "2   2 consuelo.eaton   0869347314       10     FALSE     FALSE          \n",
       "3   3 mitchel.perkins  fabypotter       10     FALSE     FALSE          \n",
       "4   4 odessa.vaughan   aharney88         9     FALSE     FALSE          \n",
       "5   5 araceli.wilder   acecdn3000       10     FALSE     FALSE          \n",
       "6   6 shawn.harrington 5278049           7      TRUE     FALSE          \n",
       "7   7 evelyn.gay       master            6      TRUE      TRUE          \n",
       "8   8 noreen.hale      murphy            6      TRUE      TRUE          \n",
       "9   9 gladys.ward      lwsves2           7      TRUE     FALSE          \n",
       "10 10 brant.zimmerman  1190KAREN5572497 16     FALSE     FALSE          \n",
       "11 11 leanna.abbott    aivlys24          8     FALSE     FALSE          \n",
       "12 12 milford.hubbard  hubbard           7      TRUE     FALSE          \n",
       "   common_word first_name last_name  uses_name\n",
       "1  FALSE       vance      jennings   FALSE    \n",
       "2  FALSE       consuelo   eaton      FALSE    \n",
       "3  FALSE       mitchel    perkins    FALSE    \n",
       "4  FALSE       odessa     vaughan    FALSE    \n",
       "5  FALSE       araceli    wilder     FALSE    \n",
       "6  FALSE       shawn      harrington FALSE    \n",
       "7   TRUE       evelyn     gay        FALSE    \n",
       "8   TRUE       noreen     hale       FALSE    \n",
       "9  FALSE       gladys     ward       FALSE    \n",
       "10 FALSE       brant      zimmerman  FALSE    \n",
       "11 FALSE       leanna     abbott     FALSE    \n",
       "12 FALSE       milford    hubbard     TRUE    "
      ]
     },
     "metadata": {},
     "output_type": "display_data"
    }
   ],
   "source": [
    "# Extracting first and last names into their own columns\n",
    "users$first_name <- str_extract(users$user_name,\"^\\\\w+\")\n",
    "users$last_name <- str_extract(users$user_name,\"\\\\w+$\")\n",
    "\n",
    "# Flagging the users with passwords that matches their names\n",
    "users$uses_name <- str_to_lower(users$password) == users$first_name | str_to_lower(users$password) == users$last_name\n",
    "\n",
    "# Counting the number of users using names as passwords\n",
    "sum(users$uses_name)\n",
    "# Taking a look at the 12 first rows\n",
    "head(users,12)"
   ]
  },
  {
   "cell_type": "markdown",
   "metadata": {
    "dc": {
     "key": "47"
    },
    "deletable": false,
    "editable": false,
    "run_control": {
     "frozen": true
    },
    "tags": [
     "context"
    ]
   },
   "source": [
    "## 7. Passwords should not be repetitive\n",
    "<p>Milford Hubbard (user number 12 above), what where you thinking!? Ok, so the last thing we are going to check is a bit tricky:</p>\n",
    "<blockquote>\n",
    "  <p>verifiers SHALL compare the prospective secrets [so that they don't contain] repetitive or sequential characters (e.g. ‘aaaaaa’, ‘1234abcd’).</p>\n",
    "</blockquote>\n",
    "<p>This is tricky to check because what is <em>repetitive</em> is hard to define. Is <code>11111</code> repetitive? Yes! Is <code>12345</code> repetitive? Well, kind of. Is <code>13579</code> repetitive? Maybe not..? To check for <em>repetitiveness</em> can be arbitrarily complex, but here we're only going to do something simple. We're going to flag all passwords that contain 4 or more repeated characters.</p>"
   ]
  },
  {
   "cell_type": "code",
   "execution_count": 55,
   "metadata": {
    "dc": {
     "key": "47"
    },
    "tags": [
     "sample_code"
    ]
   },
   "outputs": [
    {
     "data": {
      "text/html": [
       "<table>\n",
       "<caption>A tibble: 6 x 12</caption>\n",
       "<thead>\n",
       "\t<tr><th scope=col>id</th><th scope=col>user_name</th><th scope=col>password</th><th scope=col>length</th><th scope=col>too_short</th><th scope=col>common_password</th><th scope=col>common_word</th><th scope=col>first_name</th><th scope=col>last_name</th><th scope=col>uses_name</th><th scope=col>max_repeats</th><th scope=col>too_many_repeats</th></tr>\n",
       "\t<tr><th scope=col>&lt;dbl&gt;</th><th scope=col>&lt;chr&gt;</th><th scope=col>&lt;chr&gt;</th><th scope=col>&lt;int&gt;</th><th scope=col>&lt;lgl&gt;</th><th scope=col>&lt;lgl&gt;</th><th scope=col>&lt;lgl&gt;</th><th scope=col>&lt;chr&gt;</th><th scope=col>&lt;chr&gt;</th><th scope=col>&lt;lgl&gt;</th><th scope=col>&lt;int&gt;</th><th scope=col>&lt;lgl&gt;</th></tr>\n",
       "</thead>\n",
       "<tbody>\n",
       "\t<tr><td>147</td><td>patti.dixon     </td><td>555555  </td><td>6</td><td> TRUE</td><td> TRUE</td><td>FALSE</td><td>patti   </td><td>dixon   </td><td>FALSE</td><td>6</td><td>TRUE</td></tr>\n",
       "\t<tr><td>573</td><td>cornelia.bradley</td><td>555555  </td><td>6</td><td> TRUE</td><td> TRUE</td><td>FALSE</td><td>cornelia</td><td>bradley </td><td>FALSE</td><td>6</td><td>TRUE</td></tr>\n",
       "\t<tr><td>645</td><td>essie.lopez     </td><td>11111   </td><td>5</td><td> TRUE</td><td> TRUE</td><td>FALSE</td><td>essie   </td><td>lopez   </td><td>FALSE</td><td>5</td><td>TRUE</td></tr>\n",
       "\t<tr><td>799</td><td>charley.key     </td><td>888888  </td><td>6</td><td> TRUE</td><td> TRUE</td><td>FALSE</td><td>charley </td><td>key     </td><td>FALSE</td><td>6</td><td>TRUE</td></tr>\n",
       "\t<tr><td>808</td><td>thurman.osborne </td><td>rinnnng0</td><td>8</td><td>FALSE</td><td>FALSE</td><td>FALSE</td><td>thurman </td><td>osborne </td><td>FALSE</td><td>4</td><td>TRUE</td></tr>\n",
       "\t<tr><td>942</td><td>mitch.ferguson  </td><td>aaaaaa  </td><td>6</td><td> TRUE</td><td> TRUE</td><td>FALSE</td><td>mitch   </td><td>ferguson</td><td>FALSE</td><td>6</td><td>TRUE</td></tr>\n",
       "</tbody>\n",
       "</table>\n"
      ],
      "text/latex": [
       "A tibble: 6 x 12\n",
       "\\begin{tabular}{r|llllllllllll}\n",
       " id & user\\_name & password & length & too\\_short & common\\_password & common\\_word & first\\_name & last\\_name & uses\\_name & max\\_repeats & too\\_many\\_repeats\\\\\n",
       " <dbl> & <chr> & <chr> & <int> & <lgl> & <lgl> & <lgl> & <chr> & <chr> & <lgl> & <int> & <lgl>\\\\\n",
       "\\hline\n",
       "\t 147 & patti.dixon      & 555555   & 6 &  TRUE &  TRUE & FALSE & patti    & dixon    & FALSE & 6 & TRUE\\\\\n",
       "\t 573 & cornelia.bradley & 555555   & 6 &  TRUE &  TRUE & FALSE & cornelia & bradley  & FALSE & 6 & TRUE\\\\\n",
       "\t 645 & essie.lopez      & 11111    & 5 &  TRUE &  TRUE & FALSE & essie    & lopez    & FALSE & 5 & TRUE\\\\\n",
       "\t 799 & charley.key      & 888888   & 6 &  TRUE &  TRUE & FALSE & charley  & key      & FALSE & 6 & TRUE\\\\\n",
       "\t 808 & thurman.osborne  & rinnnng0 & 8 & FALSE & FALSE & FALSE & thurman  & osborne  & FALSE & 4 & TRUE\\\\\n",
       "\t 942 & mitch.ferguson   & aaaaaa   & 6 &  TRUE &  TRUE & FALSE & mitch    & ferguson & FALSE & 6 & TRUE\\\\\n",
       "\\end{tabular}\n"
      ],
      "text/markdown": [
       "\n",
       "A tibble: 6 x 12\n",
       "\n",
       "| id &lt;dbl&gt; | user_name &lt;chr&gt; | password &lt;chr&gt; | length &lt;int&gt; | too_short &lt;lgl&gt; | common_password &lt;lgl&gt; | common_word &lt;lgl&gt; | first_name &lt;chr&gt; | last_name &lt;chr&gt; | uses_name &lt;lgl&gt; | max_repeats &lt;int&gt; | too_many_repeats &lt;lgl&gt; |\n",
       "|---|---|---|---|---|---|---|---|---|---|---|---|\n",
       "| 147 | patti.dixon      | 555555   | 6 |  TRUE |  TRUE | FALSE | patti    | dixon    | FALSE | 6 | TRUE |\n",
       "| 573 | cornelia.bradley | 555555   | 6 |  TRUE |  TRUE | FALSE | cornelia | bradley  | FALSE | 6 | TRUE |\n",
       "| 645 | essie.lopez      | 11111    | 5 |  TRUE |  TRUE | FALSE | essie    | lopez    | FALSE | 5 | TRUE |\n",
       "| 799 | charley.key      | 888888   | 6 |  TRUE |  TRUE | FALSE | charley  | key      | FALSE | 6 | TRUE |\n",
       "| 808 | thurman.osborne  | rinnnng0 | 8 | FALSE | FALSE | FALSE | thurman  | osborne  | FALSE | 4 | TRUE |\n",
       "| 942 | mitch.ferguson   | aaaaaa   | 6 |  TRUE |  TRUE | FALSE | mitch    | ferguson | FALSE | 6 | TRUE |\n",
       "\n"
      ],
      "text/plain": [
       "  id  user_name        password length too_short common_password common_word\n",
       "1 147 patti.dixon      555555   6       TRUE      TRUE           FALSE      \n",
       "2 573 cornelia.bradley 555555   6       TRUE      TRUE           FALSE      \n",
       "3 645 essie.lopez      11111    5       TRUE      TRUE           FALSE      \n",
       "4 799 charley.key      888888   6       TRUE      TRUE           FALSE      \n",
       "5 808 thurman.osborne  rinnnng0 8      FALSE     FALSE           FALSE      \n",
       "6 942 mitch.ferguson   aaaaaa   6       TRUE      TRUE           FALSE      \n",
       "  first_name last_name uses_name max_repeats too_many_repeats\n",
       "1 patti      dixon     FALSE     6           TRUE            \n",
       "2 cornelia   bradley   FALSE     6           TRUE            \n",
       "3 essie      lopez     FALSE     5           TRUE            \n",
       "4 charley    key       FALSE     6           TRUE            \n",
       "5 thurman    osborne   FALSE     4           TRUE            \n",
       "6 mitch      ferguson  FALSE     6           TRUE            "
      ]
     },
     "metadata": {},
     "output_type": "display_data"
    }
   ],
   "source": [
    "# Splitting the passwords into vectors of single characters\n",
    "split_passwords <- str_split(users$password,\"\")\n",
    "\n",
    "# Picking out the max number of repeat characters for each password\n",
    "users$max_repeats <- sapply(split_passwords, function(split_password) {\n",
    "    rle_password <- rle(split_password)\n",
    "    max(rle_password$lengths)\n",
    "})\n",
    "\n",
    "\n",
    "# Flagging the passwords with >= 4 repeats\n",
    "users$too_many_repeats <- users$max_repeats >= 4\n",
    "\n",
    "# Taking a look at the users with too many repeats\n",
    "head(users %>% filter(too_many_repeats))"
   ]
  },
  {
   "cell_type": "markdown",
   "metadata": {
    "dc": {
     "key": "54"
    },
    "deletable": false,
    "editable": false,
    "run_control": {
     "frozen": true
    },
    "tags": [
     "context"
    ]
   },
   "source": [
    "## 8. All together now!\n",
    "<p>Now we have implemented all the basic tests for bad passwords suggested by NIST Special Publication 800-63B! What's left is just to flag all bad passwords and maybe to send these users an e-mail that strongly suggests they change their password.</p>"
   ]
  },
  {
   "cell_type": "code",
   "execution_count": null,
   "metadata": {
    "collapsed": true,
    "dc": {
     "key": "54"
    },
    "tags": [
     "sample_code"
    ]
   },
   "outputs": [],
   "source": [
    "# Flagging all passwords that are bad\n",
    "users$bad_password <- users$too_short | users$common_password | users$common_word | users$uses_name | users$too_many_repeats\n",
    "\n",
    "# Counting the number of bad passwords\n",
    "count(users %>% filter(bad_password))\n",
    "\n",
    "# Looking at the first 100 bad passwords\n",
    "head(users %>% filter(bad_pass))"
   ]
  },
  {
   "cell_type": "markdown",
   "metadata": {
    "dc": {
     "key": "61"
    },
    "deletable": false,
    "editable": false,
    "run_control": {
     "frozen": true
    },
    "tags": [
     "context"
    ]
   },
   "source": [
    "## 9. Otherwise, the password should be up to the user\n",
    "<p>In this notebook, we've implemented the password checks recommended by the NIST Special Publication 800-63B. It's certainly possible to better implement these checks, for example, by using a longer list of common passwords. Also note that the NIST checks in no way guarantee that a chosen password is good, just that it's not obviously bad.</p>\n",
    "<p>Apart from the checks we've implemented above the NIST is also clear with what password rules should <em>not</em> be imposed:</p>\n",
    "<blockquote>\n",
    "  <p>Verifiers SHOULD NOT impose other composition rules (e.g., requiring mixtures of different character types or prohibiting consecutively repeated characters) for memorized secrets. Verifiers SHOULD NOT require memorized secrets to be changed arbitrarily (e.g., periodically).</p>\n",
    "</blockquote>\n",
    "<p>So the next time a website or app tells you to \"include both a number, symbol and an upper and lower case character in your password\" you should send them a copy of <a href=\"https://pages.nist.gov/800-63-3/sp800-63b.html\">NIST Special Publication 800-63B</a>.</p>"
   ]
  }
 ],
 "metadata": {
  "kernelspec": {
   "display_name": "R",
   "language": "R",
   "name": "ir"
  },
  "language_info": {
   "codemirror_mode": "r",
   "file_extension": ".r",
   "mimetype": "text/x-r-source",
   "name": "R",
   "pygments_lexer": "r",
   "version": "3.6.1"
  }
 },
 "nbformat": 4,
 "nbformat_minor": 2
}
